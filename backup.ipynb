{
 "cells": [
  {
   "cell_type": "markdown",
   "metadata": {},
   "source": [
    "https://imgur.com/gQuqXDC"
   ]
  },
  {
   "cell_type": "code",
   "execution_count": null,
   "metadata": {
    "pycharm": {
     "is_executing": true,
     "name": "#%%\n"
    }
   },
   "outputs": [],
   "source": [
    "# Import dependencies\n",
    "from datetime import datetime\n",
    "import pandas as pd\n",
    "import numpy as np\n",
    "import matplotlib.pyplot as plt\n",
    "import numpy as np\n",
    "import matplotlib.pyplot as plt\n",
    "import seaborn as sns\n",
    "import scipy.stats as stats\n",
    "import plotly.express as px\n",
    "import plotly.graph_objs as go\n",
    "from plotly.offline import iplot, init_notebook_mode\n",
    "import plotly.figure_factory as ff\n",
    "from plotly import subplots\n",
    "from plotly.subplots import make_subplots\n",
    "import plotly.graph_objs as go\n",
    "from datetime import date\n",
    "from fbprophet import Prophet\n",
    "import math\n"
   ]
  },
  {
   "cell_type": "code",
   "execution_count": null,
   "metadata": {},
   "outputs": [],
   "source": [
    "#conf_rw = pd.read_csv(\"../input/novel-corona-virus-2019-dataset/COVID19_line_list_data.csv\")\n",
    "#covid.columns = ['STATE','COUNTRY','LAT','LONG','DATE','CONFIRMED','DEATH', 'RECOVERED']\n",
    "#covid['DATE'] = covid['DATE'].apply(pd.to_datetime).dt.normalize()\n",
    "#covid.head()"
   ]
  },
  {
   "cell_type": "code",
   "execution_count": null,
   "metadata": {},
   "outputs": [],
   "source": [
    "# Importing data\n",
    "covid = pd.read_csv(\"data\\\\covid_19_data.csv\", parse_dates=['ObservationDate'])\n",
    "conf_rw = pd.read_csv(\"data\\\\time_series_covid_19_confirmed.csv\")\n",
    "\n",
    "# Formating covid dataset reported from WHO\n",
    "covid = covid.drop('SNo', axis =1)\n",
    "covid.columns = ['DATE', 'STATE','COUNTRY','LAST UPDATED','CONFIRMED','DEATH', 'RECOVERED']\n",
    "covid['DATE'] = covid['DATE'].apply(pd.to_datetime).dt.normalize() \n",
    "covid['LAST UPDATED'] = covid['LAST UPDATED'].apply(pd.to_datetime).dt.normalize()\n",
    "\n",
    "# Selecting subset of information needed in conf_rw dataframe\n",
    "conf_rw = conf_rw.loc[:,['Province/State','Country/Region','Lat','Long']]\n",
    "conf_rw.columns = ['STATE','COUNTRY','LAT','LONG']\n",
    "\n",
    "# Creating covid_geo data frame that includes long and lat. \n",
    "covid = pd.merge(covid,conf_rw[['STATE','LAT','LONG']],on='STATE', how='left')\n",
    "\n",
    "# Changing Mainland China into China\n",
    "covid['COUNTRY'].replace({'Mainland China':'China'},inplace=True)\n",
    "\n",
    "covid.head()"
   ]
  },
  {
   "cell_type": "code",
   "execution_count": null,
   "metadata": {},
   "outputs": [],
   "source": [
    "# Produce quick summary with total numbers\n",
    "summary_all = covid.groupby('DATE')['CONFIRMED', 'DEATH', 'RECOVERED'].sum().reset_index()\n",
    "summary = summary_all.sort_values('DATE', ascending=False)\n",
    "\n",
    "ct_sum = covid['COUNTRY'].unique().tolist()\n",
    "print(\"As of now there is\" +\" \" + str(len(ct_sum)) +\" \" + \"countries to which virus has spread.\")\n",
    "\n",
    "summary.head(1).style.background_gradient(cmap='OrRd')"
   ]
  },
  {
   "cell_type": "markdown",
   "metadata": {},
   "source": [
    "### Checking Data Integrity with pandas_profiling library\n",
    "+ Pandas Profiling provides quick way to understand data set we are workign with."
   ]
  },
  {
   "cell_type": "code",
   "execution_count": null,
   "metadata": {},
   "outputs": [],
   "source": [
    "import pandas_profiling\n",
    "pandas_profiling.ProfileReport(covid)"
   ]
  },
  {
   "cell_type": "code",
   "execution_count": null,
   "metadata": {},
   "outputs": [],
   "source": [
    "mis_coord = pd.isnull(covid[\"LAT\"]) \n",
    "temp = covid[mis_coord]\n",
    "temp"
   ]
  },
  {
   "cell_type": "code",
   "execution_count": null,
   "metadata": {},
   "outputs": [],
   "source": [
    "temp.COUNTRY.unique()"
   ]
  },
  {
   "cell_type": "code",
   "execution_count": null,
   "metadata": {},
   "outputs": [],
   "source": [
    "# Spread, death and recovered over the time in Serbia\n",
    "\n",
    "sr_sum = sr_sum[sr_sum['DATE'] > '2020-03-01']\n",
    "\n",
    "fig = make_subplots(rows=1, cols=3, subplot_titles=(f\"{int(sr_sum.CONFIRMED.max()):,d}\" +' ' + \"CONFIRMED\",\n",
    "                                                    f\"{int(sr_sum.DEATH.max()):,d}\" +' ' + \"DEATHS\",\n",
    "                                                    f\"{int(sr_sum.RECOVERED.max()):,d}\" +' ' + \"RECOVERED\"))\n",
    "\n",
    "trace1 = go.Scatter(\n",
    "                x=sr_sum['DATE'],\n",
    "                y=sr_sum['CONFIRMED'],\n",
    "                name=\"CONFIRMED\",\n",
    "                line_color='orange',\n",
    "                opacity=0.8)\n",
    "trace2 = go.Scatter(\n",
    "                x=sr_sum['DATE'],\n",
    "                y=sr_sum['DEATH'],\n",
    "                name=\"DEATH\",\n",
    "                line_color='dimgray',\n",
    "                opacity=0.8)\n",
    "\n",
    "trace3 = go.Scatter(\n",
    "                x=sr_sum['DATE'],\n",
    "                y=sr_sum['RECOVERED'],\n",
    "                name=\"RECOVERED\",\n",
    "                line_color='deepskyblue',\n",
    "                opacity=0.8)\n",
    "\n",
    "fig.append_trace(trace1, 1, 1)\n",
    "fig.append_trace(trace2, 1, 2)\n",
    "fig.append_trace(trace3, 1, 3)\n",
    "fig.update_layout(template=\"ggplot2\",title_text = '<b>Spread Vs. Death Vs Recovered within Serbia </b>',\n",
    "                  font=dict(family=\"Arial, Balto, Courier New, Droid Sans\",color='black'), showlegend=False)\n",
    "fig.show()"
   ]
  },
  {
   "cell_type": "code",
   "execution_count": null,
   "metadata": {},
   "outputs": [],
   "source": [
    "sr_sum = sr_sum.sort_values('DATE', ascending=True)\n",
    "sr_sum = pd.DataFrame(sr_sum.set_index('DATE').diff()).reset_index()\n",
    "sr_sum.dropna()\n",
    "sr_sum.head()"
   ]
  },
  {
   "cell_type": "code",
   "execution_count": null,
   "metadata": {},
   "outputs": [],
   "source": [
    "sr_sum.describe()"
   ]
  },
  {
   "cell_type": "code",
   "execution_count": null,
   "metadata": {},
   "outputs": [],
   "source": [
    "# Ploting daily updtes for \n",
    "fig_d = go.Figure()\n",
    "fig_d.add_trace(go.Scatter(x=sr_sum.DATE, y=sr_sum.CONFIRMED, mode=\"lines+markers\", name=f\"MAX. OF {int(sr_sum.CONFIRMED.max()):,d}\" + ' ' + \"CONFIRMED\",line_color='Orange'))\n",
    "fig_d.add_trace(go.Scatter(x=sr_sum.DATE, y=sr_sum.RECOVERED, mode=\"lines+markers\", name=f\"MAX. OF {int(sr_sum.RECOVERED.max()):,d}\" + ' ' + \"RECOVERED\",line_color='deepskyblue'))\n",
    "fig_d.add_trace(go.Scatter(x=sr_sum.DATE, y=sr_sum.DEATH, mode=\"lines+markers\", name=f\"MAX. OF {int(sr_sum.DEATH.max()):,d}\" + ' ' + \"DEATHS\",line_color='dimgray'))\n",
    "fig_d.update_layout(template=\"ggplot2\",title_text = '<b>Daily numbers for Confirmed, Death and Recovered </b>',\n",
    "                  font=dict(family=\"Arial, Balto, Courier New, Droid Sans\",color='black'), showlegend=True)\n",
    "fig_d.update_layout(\n",
    "    legend=dict(\n",
    "        x=0.01,\n",
    "        y=.98,\n",
    "        traceorder=\"normal\",\n",
    "        font=dict(\n",
    "            family=\"sans-serif\",\n",
    "            size=12,\n",
    "            color=\"Black\"\n",
    "        ),\n",
    "        bgcolor=\"LightSteelBlue\",\n",
    "        bordercolor=\"dimgray\",\n",
    "        borderwidth=2\n",
    "    ))\n",
    "fig_d.show()"
   ]
  },
  {
   "cell_type": "code",
   "execution_count": null,
   "metadata": {},
   "outputs": [],
   "source": [
    "D_vs_R = sr_sum.copy()\n",
    "D_vs_R['REC'] = 'REC'\n",
    "D_vs_R['DTH'] = 'DTH'\n",
    "recovered = pd.pivot_table(D_vs_R.dropna(subset=['RECOVERED']), index='DATE', \n",
    "                         columns='REC', values='RECOVERED', aggfunc=np.sum).fillna(method='ffill').reset_index()\n",
    "\n",
    "death = pd.pivot_table(D_vs_R.dropna(subset=['DEATH']), index='DATE', \n",
    "                         columns='DTH', values='DEATH', aggfunc=np.sum).fillna(method='ffill').reset_index()\n",
    "\n",
    "D_vs_R_df = pd.merge(recovered,death,on='DATE')\n",
    "D_vs_R_df['RATIO'] = round(D_vs_R_df['DTH'] / (D_vs_R_df['DTH'] + D_vs_R_df['REC'])*100)\n",
    "D_vs_R_df.tail()"
   ]
  },
  {
   "cell_type": "code",
   "execution_count": null,
   "metadata": {},
   "outputs": [],
   "source": [
    "# Display number of confirmed cased in Serbia\n",
    "sr_max = covid[(covid['COUNTRY'] == 'Serbia')]\n",
    "fig_conf = go.Figure()\n",
    "fig_conf.add_trace(go.Scatter(x=sr_max.DATE,\n",
    "                              y=sr_max.CONFIRMED,\n",
    "                              mode=\"lines+markers\",\n",
    "                              line_color='Orange',\n",
    "                              name = f\"{int(sr_max.CONFIRMED.max()):,d}\" + ' ' + 'Confirmed'))\n",
    "\n",
    "fig_conf.update_layout(template=\"ggplot2\",title_text = '<b>Confiermed cases in Serbia</b>',\n",
    "                  font=dict(family=\"Arial, Balto, Courier New, Droid Sans\", color='black'), showlegend=True) \n",
    "fig_conf.update_layout(\n",
    "    legend=dict(\n",
    "        x=0.01,\n",
    "        y=.98,\n",
    "        traceorder=\"normal\",\n",
    "        font=dict(\n",
    "            family=\"sans-serif\",\n",
    "            size=12,\n",
    "            color=\"Black\"\n",
    "        ),\n",
    "        bgcolor=\"LightSteelBlue\",\n",
    "        bordercolor=\"Orange\",\n",
    "        borderwidth=2\n",
    "    ))\n",
    "fig_conf.show()"
   ]
  },
  {
   "cell_type": "code",
   "execution_count": null,
   "metadata": {},
   "outputs": [],
   "source": [
    "from fbprophet import Prophet\n",
    "from fbprophet.plot import add_changepoints_to_plot\n",
    "from fbprophet.plot import plot_plotly\n",
    "\n",
    "\n",
    "sr_max = sr_max.groupby(['DATE']).sum().loc[:,['CONFIRMED','DEATH','RECOVERED']].reset_index()\n",
    "sr_max = sr_max[sr_max['DATE'] > '2020-03-1']\n",
    "\n",
    "sr_prophet= sr_max.rename(columns={'DATE': 'ds', 'CONFIRMED': 'y'})\n",
    "# Make a future dataframe for X days\n",
    "m_sr = Prophet(\n",
    "    changepoint_prior_scale=20,\n",
    "    seasonality_prior_scale=20,\n",
    "    n_changepoints=19,\n",
    "    changepoint_range=0.9,\n",
    "    yearly_seasonality=False,\n",
    "    weekly_seasonality = False,\n",
    "    daily_seasonality = True,\n",
    "    seasonality_mode = 'additive')\n",
    "# Add seasonlity\n",
    "#m_us.add_seasonality(name='yearly', period=365, fourier_order=5)\n",
    "m_sr.fit(sr_prophet)\n",
    "\n",
    "# Make predictions\n",
    "future_sr = m_sr.make_future_dataframe(periods=5)\n",
    "\n",
    "forecast_sr = m_sr.predict(future_sr)"
   ]
  },
  {
   "cell_type": "code",
   "execution_count": null,
   "metadata": {},
   "outputs": [],
   "source": [
    "trace1 = {\n",
    "  \"fill\": None, \n",
    "  \"mode\": \"markers\", \n",
    "  \"name\": \"actual no. of Confirmed\", \n",
    "  \"type\": \"scatter\", \n",
    "  \"x\": sr_prophet.ds, \n",
    "  \"y\": sr_prophet.y\n",
    "}\n",
    "trace2 = {\n",
    "  \"fill\": \"tonexty\", \n",
    "  \"line\": {\"color\": \"#57b8ff\"}, \n",
    "  \"mode\": \"lines\", \n",
    "  \"name\": \"upper_band\", \n",
    "  \"type\": \"scatter\", \n",
    "  \"x\": forecast_sr.ds, \n",
    "  \"y\": forecast_sr.yhat_upper\n",
    "}\n",
    "trace3 = {\n",
    "  \"fill\": \"tonexty\", \n",
    "  \"line\": {\"color\": \"#57b8ff\"}, \n",
    "  \"mode\": \"lines\", \n",
    "  \"name\": \"lower_band\", \n",
    "  \"type\": \"scatter\", \n",
    "  \"x\": forecast_sr.ds, \n",
    "  \"y\": forecast_sr.yhat_lower\n",
    "}\n",
    "trace4 = {\n",
    "  \"line\": {\"color\": \"#eb0e0e\"}, \n",
    "  \"mode\": \"lines+markers\", \n",
    "  \"name\": \"prediction\", \n",
    "  \"type\": \"scatter\", \n",
    "  \"x\": forecast_sr.ds, \n",
    "  \"y\": forecast_sr.yhat\n",
    "}\n",
    "\n",
    "data = [trace1, trace2, trace3, trace4]\n",
    "layout = {\n",
    "  \"title\": \"Confirmed - Time Series Forecast - Daily Trend\", \n",
    "  \"xaxis\": {\n",
    "    \"title\": \"\", \n",
    "    \"ticklen\": 5, \n",
    "    \"gridcolor\": \"rgb(255, 255, 255)\", \n",
    "    \"gridwidth\": 2, \n",
    "    \"zerolinewidth\": 1\n",
    "  }, \n",
    "  \"yaxis\": {\n",
    "    \"title\": \"Confirmed nCov - US\", \n",
    "    \"ticklen\": 5, \n",
    "    \"gridcolor\": \"rgb(255, 255, 255)\", \n",
    "    \"gridwidth\": 2, \n",
    "    \"zerolinewidth\": 1\n",
    "  }, \n",
    "}\n",
    "fig = go.Figure(data=data, layout=layout)\n",
    "iplot(fig)"
   ]
  },
  {
   "cell_type": "code",
   "execution_count": null,
   "metadata": {},
   "outputs": [],
   "source": [
    "# Produce quick summary for Serbia with total numbers\n",
    "sr_df =  covid[(covid['COUNTRY'] == 'Serbia')]\n",
    "sr_sum = sr_df.groupby('DATE')['CONFIRMED', 'DEATH', 'RECOVERED'].sum().reset_index()\n",
    "sr_sum = sr_sum.sort_values('DATE', ascending=False)\n",
    "sr_sum.head(1).style.background_gradient(cmap='OrRd')"
   ]
  }
 ],
 "metadata": {
  "kernelspec": {
   "display_name": "PyCharm (COVID19_ANALYTICS)",
   "language": "python",
   "name": "pycharm-5ae4608f"
  },
  "language_info": {
   "codemirror_mode": {
    "name": "ipython",
    "version": 3
   },
   "file_extension": ".py",
   "mimetype": "text/x-python",
   "name": "python",
   "nbconvert_exporter": "python",
   "pygments_lexer": "ipython3",
   "version": "3.7.6"
  },
  "pycharm": {
   "stem_cell": {
    "cell_type": "raw",
    "metadata": {
     "collapsed": false
    },
    "source": []
   }
  }
 },
 "nbformat": 4,
 "nbformat_minor": 1
}