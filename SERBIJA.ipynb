{
 "cells": [
  {
   "cell_type": "markdown",
   "metadata": {},
   "source": [
    "https://imgur.com/gQuqXDC"
   ]
  },
  {
   "cell_type": "code",
   "execution_count": 12,
   "metadata": {
    "pycharm": {
     "is_executing": false,
     "name": "#%%\n"
    }
   },
   "outputs": [],
   "source": [
    "# Import dependencies\n",
    "from datetime import datetime\n",
    "import pandas as pd\n",
    "import numpy as np\n",
    "\n",
    "import matplotlib.pyplot as plt\n",
    "import numpy as np\n",
    "import matplotlib.pyplot as plt\n",
    "import seaborn as sns\n",
    "import scipy.stats as stats\n",
    "import plotly.express as px\n",
    "import plotly.graph_objs as go\n",
    "from plotly.offline import iplot, init_notebook_mode\n",
    "import plotly.figure_factory as ff\n",
    "from plotly import subplots\n",
    "from plotly.subplots import make_subplots\n",
    "import plotly.graph_objs as go\n",
    "from datetime import date\n",
    "from fbprophet import Prophet\n",
    "import math"
   ]
  },
  {
   "cell_type": "code",
   "execution_count": 13,
   "metadata": {
    "pycharm": {
     "is_executing": false
    }
   },
   "outputs": [
    {
     "name": "stderr",
     "text": [
      "c:\\users\\slavi\\pycharmprojects\\covid-19_srbija\\venv\\lib\\site-packages\\ipykernel_launcher.py:12: FutureWarning:\n",
      "\n",
      "Indexing with multiple keys (implicitly converted to a tuple of keys) will be deprecated, use a list instead.\n",
      "\n"
     ],
     "output_type": "stream"
    },
    {
     "data": {
      "text/plain": "<pandas.io.formats.style.Styler at 0x2a29a1d9308>",
      "text/html": "<style  type=\"text/css\" >\n    #T_3571ff4a_7041_11ea_8c21_9eb6d0fd01dbrow0_col1 {\n            background-color:  #fff7ec;\n            color:  #000000;\n        }    #T_3571ff4a_7041_11ea_8c21_9eb6d0fd01dbrow0_col2 {\n            background-color:  #fff7ec;\n            color:  #000000;\n        }    #T_3571ff4a_7041_11ea_8c21_9eb6d0fd01dbrow0_col3 {\n            background-color:  #fff7ec;\n            color:  #000000;\n        }</style><table id=\"T_3571ff4a_7041_11ea_8c21_9eb6d0fd01db\" ><thead>    <tr>        <th class=\"blank level0\" ></th>        <th class=\"col_heading level0 col0\" >DATE</th>        <th class=\"col_heading level0 col1\" >CONFIRMED</th>        <th class=\"col_heading level0 col2\" >DEATH</th>        <th class=\"col_heading level0 col3\" >RECOVERED</th>    </tr></thead><tbody>\n                <tr>\n                        <th id=\"T_3571ff4a_7041_11ea_8c21_9eb6d0fd01dblevel0_row0\" class=\"row_heading level0 row0\" >20</th>\n                        <td id=\"T_3571ff4a_7041_11ea_8c21_9eb6d0fd01dbrow0_col0\" class=\"data row0 col0\" >2020-03-26 00:00:00</td>\n                        <td id=\"T_3571ff4a_7041_11ea_8c21_9eb6d0fd01dbrow0_col1\" class=\"data row0 col1\" >384.000000</td>\n                        <td id=\"T_3571ff4a_7041_11ea_8c21_9eb6d0fd01dbrow0_col2\" class=\"data row0 col2\" >1.000000</td>\n                        <td id=\"T_3571ff4a_7041_11ea_8c21_9eb6d0fd01dbrow0_col3\" class=\"data row0 col3\" >0.000000</td>\n            </tr>\n    </tbody></table>"
     },
     "metadata": {},
     "output_type": "execute_result",
     "execution_count": 13
    }
   ],
   "source": [
    "# Importing data\n",
    "covid = pd.read_csv(\"data\\\\covid_19_data.csv\", parse_dates=['ObservationDate'])\n",
    "\n",
    "# Formating covid dataset reported from WHO\n",
    "covid = covid.drop('SNo', axis =1)\n",
    "covid.columns = ['DATE', 'STATE','COUNTRY','LAST UPDATED','CONFIRMED','DEATH', 'RECOVERED']\n",
    "covid['DATE'] = covid['DATE'].apply(pd.to_datetime).dt.normalize() \n",
    "covid['LAST UPDATED'] = covid['LAST UPDATED'].apply(pd.to_datetime).dt.normalize()\n",
    "\n",
    "# Produce quick summary for Serbia with total numbers\n",
    "sr_df =  covid[(covid['COUNTRY'] == 'Serbia')]\n",
    "sr_sum = sr_df.groupby('DATE')['CONFIRMED', 'DEATH', 'RECOVERED'].sum().reset_index()\n",
    "sr_sum = sr_sum.sort_values('DATE', ascending=False)\n",
    "sr_sum.head(1).style.background_gradient(cmap='OrRd')\n",
    "\n",
    "\n"
   ]
  },
  {
   "cell_type": "markdown",
   "metadata": {},
   "source": [
    "### Checking Data Integrity with pandas_profiling library\n",
    "+ Pandas Profiling provides quick way to understand data set we are workign with."
   ]
  },
  {
   "cell_type": "code",
   "execution_count": 14,
   "metadata": {
    "pycharm": {
     "is_executing": false
    }
   },
   "outputs": [
    {
     "traceback": [
      "\u001b[1;31m---------------------------------------------------------------------------\u001b[0m",
      "\u001b[1;31mModuleNotFoundError\u001b[0m                       Traceback (most recent call last)",
      "\u001b[1;32m<ipython-input-14-af5baa2db13d>\u001b[0m in \u001b[0;36m<module>\u001b[1;34m\u001b[0m\n\u001b[1;32m----> 1\u001b[1;33m \u001b[1;32mimport\u001b[0m \u001b[0mpandas_profiling\u001b[0m\u001b[1;33m\u001b[0m\u001b[1;33m\u001b[0m\u001b[0m\n\u001b[0m\u001b[0;32m      2\u001b[0m \u001b[0mpandas_profiling\u001b[0m\u001b[1;33m.\u001b[0m\u001b[0mProfileReport\u001b[0m\u001b[1;33m(\u001b[0m\u001b[0msr_df\u001b[0m\u001b[1;33m)\u001b[0m\u001b[1;33m\u001b[0m\u001b[1;33m\u001b[0m\u001b[0m\n\u001b[0;32m      3\u001b[0m \u001b[1;33m\u001b[0m\u001b[0m\n",
      "\u001b[1;31mModuleNotFoundError\u001b[0m: No module named 'pandas_profiling'"
     ],
     "ename": "ModuleNotFoundError",
     "evalue": "No module named 'pandas_profiling'",
     "output_type": "error"
    }
   ],
   "source": [
    "\n",
    "import pandas_profiling\n",
    "pandas_profiling.ProfileReport(sr_df)"
   ]
  },
  {
   "cell_type": "code",
   "execution_count": 15,
   "metadata": {
    "pycharm": {
     "is_executing": false
    }
   },
   "outputs": [
    {
     "data": {
      "application/vnd.plotly.v1+json": {
       "config": {
        "plotlyServerURL": "https://plot.ly"
       },
       "data": [
        {
         "line": {
          "color": "orange"
         },
         "name": "CONFIRMED",
         "opacity": 0.8,
         "type": "scatter",
         "x": [
          "2020-03-26T00:00:00",
          "2020-03-25T00:00:00",
          "2020-03-24T00:00:00",
          "2020-03-23T00:00:00",
          "2020-03-22T00:00:00",
          "2020-03-21T00:00:00",
          "2020-03-20T00:00:00",
          "2020-03-19T00:00:00",
          "2020-03-18T00:00:00",
          "2020-03-17T00:00:00",
          "2020-03-16T00:00:00",
          "2020-03-15T00:00:00",
          "2020-03-14T00:00:00",
          "2020-03-13T00:00:00",
          "2020-03-12T00:00:00",
          "2020-03-11T00:00:00",
          "2020-03-10T00:00:00",
          "2020-03-09T00:00:00",
          "2020-03-08T00:00:00",
          "2020-03-07T00:00:00",
          "2020-03-06T00:00:00"
         ],
         "xaxis": "x",
         "y": [
          384.0,
          384.0,
          303.0,
          249.0,
          222.0,
          171.0,
          135.0,
          103.0,
          83.0,
          65.0,
          55.0,
          48.0,
          46.0,
          35.0,
          19.0,
          12.0,
          5.0,
          1.0,
          1.0,
          1.0,
          1.0
         ],
         "yaxis": "y"
        },
        {
         "line": {
          "color": "dimgray"
         },
         "name": "DEATH",
         "opacity": 0.8,
         "type": "scatter",
         "x": [
          "2020-03-26T00:00:00",
          "2020-03-25T00:00:00",
          "2020-03-24T00:00:00",
          "2020-03-23T00:00:00",
          "2020-03-22T00:00:00",
          "2020-03-21T00:00:00",
          "2020-03-20T00:00:00",
          "2020-03-19T00:00:00",
          "2020-03-18T00:00:00",
          "2020-03-17T00:00:00",
          "2020-03-16T00:00:00",
          "2020-03-15T00:00:00",
          "2020-03-14T00:00:00",
          "2020-03-13T00:00:00",
          "2020-03-12T00:00:00",
          "2020-03-11T00:00:00",
          "2020-03-10T00:00:00",
          "2020-03-09T00:00:00",
          "2020-03-08T00:00:00",
          "2020-03-07T00:00:00",
          "2020-03-06T00:00:00"
         ],
         "xaxis": "x2",
         "y": [
          1.0,
          4.0,
          3.0,
          3.0,
          2.0,
          1.0,
          1.0,
          0.0,
          0.0,
          0.0,
          0.0,
          0.0,
          0.0,
          0.0,
          0.0,
          0.0,
          0.0,
          0.0,
          0.0,
          0.0,
          0.0
         ],
         "yaxis": "y2"
        },
        {
         "line": {
          "color": "deepskyblue"
         },
         "name": "RECOVERED",
         "opacity": 0.8,
         "type": "scatter",
         "x": [
          "2020-03-26T00:00:00",
          "2020-03-25T00:00:00",
          "2020-03-24T00:00:00",
          "2020-03-23T00:00:00",
          "2020-03-22T00:00:00",
          "2020-03-21T00:00:00",
          "2020-03-20T00:00:00",
          "2020-03-19T00:00:00",
          "2020-03-18T00:00:00",
          "2020-03-17T00:00:00",
          "2020-03-16T00:00:00",
          "2020-03-15T00:00:00",
          "2020-03-14T00:00:00",
          "2020-03-13T00:00:00",
          "2020-03-12T00:00:00",
          "2020-03-11T00:00:00",
          "2020-03-10T00:00:00",
          "2020-03-09T00:00:00",
          "2020-03-08T00:00:00",
          "2020-03-07T00:00:00",
          "2020-03-06T00:00:00"
         ],
         "xaxis": "x3",
         "y": [
          0.0,
          15.0,
          15.0,
          3.0,
          2.0,
          1.0,
          1.0,
          1.0,
          1.0,
          1.0,
          1.0,
          0.0,
          0.0,
          0.0,
          0.0,
          0.0,
          0.0,
          0.0,
          0.0,
          0.0,
          0.0
         ],
         "yaxis": "y3"
        }
       ],
       "layout": {
        "annotations": [
         {
          "font": {
           "size": 16
          },
          "showarrow": false,
          "text": "384 CONFIRMED",
          "x": 0.14444444444444446,
          "xanchor": "center",
          "xref": "paper",
          "y": 1.0,
          "yanchor": "bottom",
          "yref": "paper"
         },
         {
          "font": {
           "size": 16
          },
          "showarrow": false,
          "text": "4 DEATHS",
          "x": 0.5,
          "xanchor": "center",
          "xref": "paper",
          "y": 1.0,
          "yanchor": "bottom",
          "yref": "paper"
         },
         {
          "font": {
           "size": 16
          },
          "showarrow": false,
          "text": "15 RECOVERED",
          "x": 0.8555555555555556,
          "xanchor": "center",
          "xref": "paper",
          "y": 1.0,
          "yanchor": "bottom",
          "yref": "paper"
         }
        ],
        "font": {
         "color": "black",
         "family": "Arial, Balto, Courier New, Droid Sans"
        },
        "showlegend": false,
        "template": {
         "data": {
          "bar": [
           {
            "error_x": {
             "color": "rgb(51,51,51)"
            },
            "error_y": {
             "color": "rgb(51,51,51)"
            },
            "marker": {
             "line": {
              "color": "rgb(237,237,237)",
              "width": 0.5
             }
            },
            "type": "bar"
           }
          ],
          "barpolar": [
           {
            "marker": {
             "line": {
              "color": "rgb(237,237,237)",
              "width": 0.5
             }
            },
            "type": "barpolar"
           }
          ],
          "carpet": [
           {
            "aaxis": {
             "endlinecolor": "rgb(51,51,51)",
             "gridcolor": "white",
             "linecolor": "white",
             "minorgridcolor": "white",
             "startlinecolor": "rgb(51,51,51)"
            },
            "baxis": {
             "endlinecolor": "rgb(51,51,51)",
             "gridcolor": "white",
             "linecolor": "white",
             "minorgridcolor": "white",
             "startlinecolor": "rgb(51,51,51)"
            },
            "type": "carpet"
           }
          ],
          "choropleth": [
           {
            "colorbar": {
             "outlinewidth": 0,
             "tickcolor": "rgb(237,237,237)",
             "ticklen": 6,
             "ticks": "inside"
            },
            "type": "choropleth"
           }
          ],
          "contour": [
           {
            "colorbar": {
             "outlinewidth": 0,
             "tickcolor": "rgb(237,237,237)",
             "ticklen": 6,
             "ticks": "inside"
            },
            "colorscale": [
             [
              0,
              "rgb(20,44,66)"
             ],
             [
              1,
              "rgb(90,179,244)"
             ]
            ],
            "type": "contour"
           }
          ],
          "contourcarpet": [
           {
            "colorbar": {
             "outlinewidth": 0,
             "tickcolor": "rgb(237,237,237)",
             "ticklen": 6,
             "ticks": "inside"
            },
            "type": "contourcarpet"
           }
          ],
          "heatmap": [
           {
            "colorbar": {
             "outlinewidth": 0,
             "tickcolor": "rgb(237,237,237)",
             "ticklen": 6,
             "ticks": "inside"
            },
            "colorscale": [
             [
              0,
              "rgb(20,44,66)"
             ],
             [
              1,
              "rgb(90,179,244)"
             ]
            ],
            "type": "heatmap"
           }
          ],
          "heatmapgl": [
           {
            "colorbar": {
             "outlinewidth": 0,
             "tickcolor": "rgb(237,237,237)",
             "ticklen": 6,
             "ticks": "inside"
            },
            "colorscale": [
             [
              0,
              "rgb(20,44,66)"
             ],
             [
              1,
              "rgb(90,179,244)"
             ]
            ],
            "type": "heatmapgl"
           }
          ],
          "histogram": [
           {
            "marker": {
             "colorbar": {
              "outlinewidth": 0,
              "tickcolor": "rgb(237,237,237)",
              "ticklen": 6,
              "ticks": "inside"
             }
            },
            "type": "histogram"
           }
          ],
          "histogram2d": [
           {
            "colorbar": {
             "outlinewidth": 0,
             "tickcolor": "rgb(237,237,237)",
             "ticklen": 6,
             "ticks": "inside"
            },
            "colorscale": [
             [
              0,
              "rgb(20,44,66)"
             ],
             [
              1,
              "rgb(90,179,244)"
             ]
            ],
            "type": "histogram2d"
           }
          ],
          "histogram2dcontour": [
           {
            "colorbar": {
             "outlinewidth": 0,
             "tickcolor": "rgb(237,237,237)",
             "ticklen": 6,
             "ticks": "inside"
            },
            "colorscale": [
             [
              0,
              "rgb(20,44,66)"
             ],
             [
              1,
              "rgb(90,179,244)"
             ]
            ],
            "type": "histogram2dcontour"
           }
          ],
          "mesh3d": [
           {
            "colorbar": {
             "outlinewidth": 0,
             "tickcolor": "rgb(237,237,237)",
             "ticklen": 6,
             "ticks": "inside"
            },
            "type": "mesh3d"
           }
          ],
          "parcoords": [
           {
            "line": {
             "colorbar": {
              "outlinewidth": 0,
              "tickcolor": "rgb(237,237,237)",
              "ticklen": 6,
              "ticks": "inside"
             }
            },
            "type": "parcoords"
           }
          ],
          "pie": [
           {
            "automargin": true,
            "type": "pie"
           }
          ],
          "scatter": [
           {
            "marker": {
             "colorbar": {
              "outlinewidth": 0,
              "tickcolor": "rgb(237,237,237)",
              "ticklen": 6,
              "ticks": "inside"
             }
            },
            "type": "scatter"
           }
          ],
          "scatter3d": [
           {
            "line": {
             "colorbar": {
              "outlinewidth": 0,
              "tickcolor": "rgb(237,237,237)",
              "ticklen": 6,
              "ticks": "inside"
             }
            },
            "marker": {
             "colorbar": {
              "outlinewidth": 0,
              "tickcolor": "rgb(237,237,237)",
              "ticklen": 6,
              "ticks": "inside"
             }
            },
            "type": "scatter3d"
           }
          ],
          "scattercarpet": [
           {
            "marker": {
             "colorbar": {
              "outlinewidth": 0,
              "tickcolor": "rgb(237,237,237)",
              "ticklen": 6,
              "ticks": "inside"
             }
            },
            "type": "scattercarpet"
           }
          ],
          "scattergeo": [
           {
            "marker": {
             "colorbar": {
              "outlinewidth": 0,
              "tickcolor": "rgb(237,237,237)",
              "ticklen": 6,
              "ticks": "inside"
             }
            },
            "type": "scattergeo"
           }
          ],
          "scattergl": [
           {
            "marker": {
             "colorbar": {
              "outlinewidth": 0,
              "tickcolor": "rgb(237,237,237)",
              "ticklen": 6,
              "ticks": "inside"
             }
            },
            "type": "scattergl"
           }
          ],
          "scattermapbox": [
           {
            "marker": {
             "colorbar": {
              "outlinewidth": 0,
              "tickcolor": "rgb(237,237,237)",
              "ticklen": 6,
              "ticks": "inside"
             }
            },
            "type": "scattermapbox"
           }
          ],
          "scatterpolar": [
           {
            "marker": {
             "colorbar": {
              "outlinewidth": 0,
              "tickcolor": "rgb(237,237,237)",
              "ticklen": 6,
              "ticks": "inside"
             }
            },
            "type": "scatterpolar"
           }
          ],
          "scatterpolargl": [
           {
            "marker": {
             "colorbar": {
              "outlinewidth": 0,
              "tickcolor": "rgb(237,237,237)",
              "ticklen": 6,
              "ticks": "inside"
             }
            },
            "type": "scatterpolargl"
           }
          ],
          "scatterternary": [
           {
            "marker": {
             "colorbar": {
              "outlinewidth": 0,
              "tickcolor": "rgb(237,237,237)",
              "ticklen": 6,
              "ticks": "inside"
             }
            },
            "type": "scatterternary"
           }
          ],
          "surface": [
           {
            "colorbar": {
             "outlinewidth": 0,
             "tickcolor": "rgb(237,237,237)",
             "ticklen": 6,
             "ticks": "inside"
            },
            "colorscale": [
             [
              0,
              "rgb(20,44,66)"
             ],
             [
              1,
              "rgb(90,179,244)"
             ]
            ],
            "type": "surface"
           }
          ],
          "table": [
           {
            "cells": {
             "fill": {
              "color": "rgb(237,237,237)"
             },
             "line": {
              "color": "white"
             }
            },
            "header": {
             "fill": {
              "color": "rgb(217,217,217)"
             },
             "line": {
              "color": "white"
             }
            },
            "type": "table"
           }
          ]
         },
         "layout": {
          "annotationdefaults": {
           "arrowhead": 0,
           "arrowwidth": 1
          },
          "coloraxis": {
           "colorbar": {
            "outlinewidth": 0,
            "tickcolor": "rgb(237,237,237)",
            "ticklen": 6,
            "ticks": "inside"
           }
          },
          "colorscale": {
           "sequential": [
            [
             0,
             "rgb(20,44,66)"
            ],
            [
             1,
             "rgb(90,179,244)"
            ]
           ],
           "sequentialminus": [
            [
             0,
             "rgb(20,44,66)"
            ],
            [
             1,
             "rgb(90,179,244)"
            ]
           ]
          },
          "colorway": [
           "#F8766D",
           "#A3A500",
           "#00BF7D",
           "#00B0F6",
           "#E76BF3"
          ],
          "font": {
           "color": "rgb(51,51,51)"
          },
          "geo": {
           "bgcolor": "white",
           "lakecolor": "white",
           "landcolor": "rgb(237,237,237)",
           "showlakes": true,
           "showland": true,
           "subunitcolor": "white"
          },
          "hoverlabel": {
           "align": "left"
          },
          "hovermode": "closest",
          "paper_bgcolor": "white",
          "plot_bgcolor": "rgb(237,237,237)",
          "polar": {
           "angularaxis": {
            "gridcolor": "white",
            "linecolor": "white",
            "showgrid": true,
            "tickcolor": "rgb(51,51,51)",
            "ticks": "outside"
           },
           "bgcolor": "rgb(237,237,237)",
           "radialaxis": {
            "gridcolor": "white",
            "linecolor": "white",
            "showgrid": true,
            "tickcolor": "rgb(51,51,51)",
            "ticks": "outside"
           }
          },
          "scene": {
           "xaxis": {
            "backgroundcolor": "rgb(237,237,237)",
            "gridcolor": "white",
            "gridwidth": 2,
            "linecolor": "white",
            "showbackground": true,
            "showgrid": true,
            "tickcolor": "rgb(51,51,51)",
            "ticks": "outside",
            "zerolinecolor": "white"
           },
           "yaxis": {
            "backgroundcolor": "rgb(237,237,237)",
            "gridcolor": "white",
            "gridwidth": 2,
            "linecolor": "white",
            "showbackground": true,
            "showgrid": true,
            "tickcolor": "rgb(51,51,51)",
            "ticks": "outside",
            "zerolinecolor": "white"
           },
           "zaxis": {
            "backgroundcolor": "rgb(237,237,237)",
            "gridcolor": "white",
            "gridwidth": 2,
            "linecolor": "white",
            "showbackground": true,
            "showgrid": true,
            "tickcolor": "rgb(51,51,51)",
            "ticks": "outside",
            "zerolinecolor": "white"
           }
          },
          "shapedefaults": {
           "fillcolor": "black",
           "line": {
            "width": 0
           },
           "opacity": 0.3
          },
          "ternary": {
           "aaxis": {
            "gridcolor": "white",
            "linecolor": "white",
            "showgrid": true,
            "tickcolor": "rgb(51,51,51)",
            "ticks": "outside"
           },
           "baxis": {
            "gridcolor": "white",
            "linecolor": "white",
            "showgrid": true,
            "tickcolor": "rgb(51,51,51)",
            "ticks": "outside"
           },
           "bgcolor": "rgb(237,237,237)",
           "caxis": {
            "gridcolor": "white",
            "linecolor": "white",
            "showgrid": true,
            "tickcolor": "rgb(51,51,51)",
            "ticks": "outside"
           }
          },
          "xaxis": {
           "automargin": true,
           "gridcolor": "white",
           "linecolor": "white",
           "showgrid": true,
           "tickcolor": "rgb(51,51,51)",
           "ticks": "outside",
           "title": {
            "standoff": 15
           },
           "zerolinecolor": "white"
          },
          "yaxis": {
           "automargin": true,
           "gridcolor": "white",
           "linecolor": "white",
           "showgrid": true,
           "tickcolor": "rgb(51,51,51)",
           "ticks": "outside",
           "title": {
            "standoff": 15
           },
           "zerolinecolor": "white"
          }
         }
        },
        "title": {
         "text": "<b>Spread Vs. Death Vs Recovered within Serbia </b>"
        },
        "xaxis": {
         "anchor": "y",
         "domain": [
          0.0,
          0.2888888888888889
         ]
        },
        "xaxis2": {
         "anchor": "y2",
         "domain": [
          0.35555555555555557,
          0.6444444444444445
         ]
        },
        "xaxis3": {
         "anchor": "y3",
         "domain": [
          0.7111111111111111,
          1.0
         ]
        },
        "yaxis": {
         "anchor": "x",
         "domain": [
          0.0,
          1.0
         ]
        },
        "yaxis2": {
         "anchor": "x2",
         "domain": [
          0.0,
          1.0
         ]
        },
        "yaxis3": {
         "anchor": "x3",
         "domain": [
          0.0,
          1.0
         ]
        }
       }
      },
      "text/html": "<div>\n        \n        \n            <div id=\"69223632-e0e5-4fb1-9d0f-1dbd3e8eb9df\" class=\"plotly-graph-div\" style=\"height:525px; width:100%;\"></div>\n            <script type=\"text/javascript\">\n                require([\"plotly\"], function(Plotly) {\n                    window.PLOTLYENV=window.PLOTLYENV || {};\n                    \n                if (document.getElementById(\"69223632-e0e5-4fb1-9d0f-1dbd3e8eb9df\")) {\n                    Plotly.newPlot(\n                        '69223632-e0e5-4fb1-9d0f-1dbd3e8eb9df',\n                        [{\"line\": {\"color\": \"orange\"}, \"name\": \"CONFIRMED\", \"opacity\": 0.8, \"type\": \"scatter\", \"x\": [\"2020-03-26T00:00:00\", \"2020-03-25T00:00:00\", \"2020-03-24T00:00:00\", \"2020-03-23T00:00:00\", \"2020-03-22T00:00:00\", \"2020-03-21T00:00:00\", \"2020-03-20T00:00:00\", \"2020-03-19T00:00:00\", \"2020-03-18T00:00:00\", \"2020-03-17T00:00:00\", \"2020-03-16T00:00:00\", \"2020-03-15T00:00:00\", \"2020-03-14T00:00:00\", \"2020-03-13T00:00:00\", \"2020-03-12T00:00:00\", \"2020-03-11T00:00:00\", \"2020-03-10T00:00:00\", \"2020-03-09T00:00:00\", \"2020-03-08T00:00:00\", \"2020-03-07T00:00:00\", \"2020-03-06T00:00:00\"], \"xaxis\": \"x\", \"y\": [384.0, 384.0, 303.0, 249.0, 222.0, 171.0, 135.0, 103.0, 83.0, 65.0, 55.0, 48.0, 46.0, 35.0, 19.0, 12.0, 5.0, 1.0, 1.0, 1.0, 1.0], \"yaxis\": \"y\"}, {\"line\": {\"color\": \"dimgray\"}, \"name\": \"DEATH\", \"opacity\": 0.8, \"type\": \"scatter\", \"x\": [\"2020-03-26T00:00:00\", \"2020-03-25T00:00:00\", \"2020-03-24T00:00:00\", \"2020-03-23T00:00:00\", \"2020-03-22T00:00:00\", \"2020-03-21T00:00:00\", \"2020-03-20T00:00:00\", \"2020-03-19T00:00:00\", \"2020-03-18T00:00:00\", \"2020-03-17T00:00:00\", \"2020-03-16T00:00:00\", \"2020-03-15T00:00:00\", \"2020-03-14T00:00:00\", \"2020-03-13T00:00:00\", \"2020-03-12T00:00:00\", \"2020-03-11T00:00:00\", \"2020-03-10T00:00:00\", \"2020-03-09T00:00:00\", \"2020-03-08T00:00:00\", \"2020-03-07T00:00:00\", \"2020-03-06T00:00:00\"], \"xaxis\": \"x2\", \"y\": [1.0, 4.0, 3.0, 3.0, 2.0, 1.0, 1.0, 0.0, 0.0, 0.0, 0.0, 0.0, 0.0, 0.0, 0.0, 0.0, 0.0, 0.0, 0.0, 0.0, 0.0], \"yaxis\": \"y2\"}, {\"line\": {\"color\": \"deepskyblue\"}, \"name\": \"RECOVERED\", \"opacity\": 0.8, \"type\": \"scatter\", \"x\": [\"2020-03-26T00:00:00\", \"2020-03-25T00:00:00\", \"2020-03-24T00:00:00\", \"2020-03-23T00:00:00\", \"2020-03-22T00:00:00\", \"2020-03-21T00:00:00\", \"2020-03-20T00:00:00\", \"2020-03-19T00:00:00\", \"2020-03-18T00:00:00\", \"2020-03-17T00:00:00\", \"2020-03-16T00:00:00\", \"2020-03-15T00:00:00\", \"2020-03-14T00:00:00\", \"2020-03-13T00:00:00\", \"2020-03-12T00:00:00\", \"2020-03-11T00:00:00\", \"2020-03-10T00:00:00\", \"2020-03-09T00:00:00\", \"2020-03-08T00:00:00\", \"2020-03-07T00:00:00\", \"2020-03-06T00:00:00\"], \"xaxis\": \"x3\", \"y\": [0.0, 15.0, 15.0, 3.0, 2.0, 1.0, 1.0, 1.0, 1.0, 1.0, 1.0, 0.0, 0.0, 0.0, 0.0, 0.0, 0.0, 0.0, 0.0, 0.0, 0.0], \"yaxis\": \"y3\"}],\n                        {\"annotations\": [{\"font\": {\"size\": 16}, \"showarrow\": false, \"text\": \"384 CONFIRMED\", \"x\": 0.14444444444444446, \"xanchor\": \"center\", \"xref\": \"paper\", \"y\": 1.0, \"yanchor\": \"bottom\", \"yref\": \"paper\"}, {\"font\": {\"size\": 16}, \"showarrow\": false, \"text\": \"4 DEATHS\", \"x\": 0.5, \"xanchor\": \"center\", \"xref\": \"paper\", \"y\": 1.0, \"yanchor\": \"bottom\", \"yref\": \"paper\"}, {\"font\": {\"size\": 16}, \"showarrow\": false, \"text\": \"15 RECOVERED\", \"x\": 0.8555555555555556, \"xanchor\": \"center\", \"xref\": \"paper\", \"y\": 1.0, \"yanchor\": \"bottom\", \"yref\": \"paper\"}], \"font\": {\"color\": \"black\", \"family\": \"Arial, Balto, Courier New, Droid Sans\"}, \"showlegend\": false, \"template\": {\"data\": {\"bar\": [{\"error_x\": {\"color\": \"rgb(51,51,51)\"}, \"error_y\": {\"color\": \"rgb(51,51,51)\"}, \"marker\": {\"line\": {\"color\": \"rgb(237,237,237)\", \"width\": 0.5}}, \"type\": \"bar\"}], \"barpolar\": [{\"marker\": {\"line\": {\"color\": \"rgb(237,237,237)\", \"width\": 0.5}}, \"type\": \"barpolar\"}], \"carpet\": [{\"aaxis\": {\"endlinecolor\": \"rgb(51,51,51)\", \"gridcolor\": \"white\", \"linecolor\": \"white\", \"minorgridcolor\": \"white\", \"startlinecolor\": \"rgb(51,51,51)\"}, \"baxis\": {\"endlinecolor\": \"rgb(51,51,51)\", \"gridcolor\": \"white\", \"linecolor\": \"white\", \"minorgridcolor\": \"white\", \"startlinecolor\": \"rgb(51,51,51)\"}, \"type\": \"carpet\"}], \"choropleth\": [{\"colorbar\": {\"outlinewidth\": 0, \"tickcolor\": \"rgb(237,237,237)\", \"ticklen\": 6, \"ticks\": \"inside\"}, \"type\": \"choropleth\"}], \"contour\": [{\"colorbar\": {\"outlinewidth\": 0, \"tickcolor\": \"rgb(237,237,237)\", \"ticklen\": 6, \"ticks\": \"inside\"}, \"colorscale\": [[0, \"rgb(20,44,66)\"], [1, \"rgb(90,179,244)\"]], \"type\": \"contour\"}], \"contourcarpet\": [{\"colorbar\": {\"outlinewidth\": 0, \"tickcolor\": \"rgb(237,237,237)\", \"ticklen\": 6, \"ticks\": \"inside\"}, \"type\": \"contourcarpet\"}], \"heatmap\": [{\"colorbar\": {\"outlinewidth\": 0, \"tickcolor\": \"rgb(237,237,237)\", \"ticklen\": 6, \"ticks\": \"inside\"}, \"colorscale\": [[0, \"rgb(20,44,66)\"], [1, \"rgb(90,179,244)\"]], \"type\": \"heatmap\"}], \"heatmapgl\": [{\"colorbar\": {\"outlinewidth\": 0, \"tickcolor\": \"rgb(237,237,237)\", \"ticklen\": 6, \"ticks\": \"inside\"}, \"colorscale\": [[0, \"rgb(20,44,66)\"], [1, \"rgb(90,179,244)\"]], \"type\": \"heatmapgl\"}], \"histogram\": [{\"marker\": {\"colorbar\": {\"outlinewidth\": 0, \"tickcolor\": \"rgb(237,237,237)\", \"ticklen\": 6, \"ticks\": \"inside\"}}, \"type\": \"histogram\"}], \"histogram2d\": [{\"colorbar\": {\"outlinewidth\": 0, \"tickcolor\": \"rgb(237,237,237)\", \"ticklen\": 6, \"ticks\": \"inside\"}, \"colorscale\": [[0, \"rgb(20,44,66)\"], [1, \"rgb(90,179,244)\"]], \"type\": \"histogram2d\"}], \"histogram2dcontour\": [{\"colorbar\": {\"outlinewidth\": 0, \"tickcolor\": \"rgb(237,237,237)\", \"ticklen\": 6, \"ticks\": \"inside\"}, \"colorscale\": [[0, \"rgb(20,44,66)\"], [1, \"rgb(90,179,244)\"]], \"type\": \"histogram2dcontour\"}], \"mesh3d\": [{\"colorbar\": {\"outlinewidth\": 0, \"tickcolor\": \"rgb(237,237,237)\", \"ticklen\": 6, \"ticks\": \"inside\"}, \"type\": \"mesh3d\"}], \"parcoords\": [{\"line\": {\"colorbar\": {\"outlinewidth\": 0, \"tickcolor\": \"rgb(237,237,237)\", \"ticklen\": 6, \"ticks\": \"inside\"}}, \"type\": \"parcoords\"}], \"pie\": [{\"automargin\": true, \"type\": \"pie\"}], \"scatter\": [{\"marker\": {\"colorbar\": {\"outlinewidth\": 0, \"tickcolor\": \"rgb(237,237,237)\", \"ticklen\": 6, \"ticks\": \"inside\"}}, \"type\": \"scatter\"}], \"scatter3d\": [{\"line\": {\"colorbar\": {\"outlinewidth\": 0, \"tickcolor\": \"rgb(237,237,237)\", \"ticklen\": 6, \"ticks\": \"inside\"}}, \"marker\": {\"colorbar\": {\"outlinewidth\": 0, \"tickcolor\": \"rgb(237,237,237)\", \"ticklen\": 6, \"ticks\": \"inside\"}}, \"type\": \"scatter3d\"}], \"scattercarpet\": [{\"marker\": {\"colorbar\": {\"outlinewidth\": 0, \"tickcolor\": \"rgb(237,237,237)\", \"ticklen\": 6, \"ticks\": \"inside\"}}, \"type\": \"scattercarpet\"}], \"scattergeo\": [{\"marker\": {\"colorbar\": {\"outlinewidth\": 0, \"tickcolor\": \"rgb(237,237,237)\", \"ticklen\": 6, \"ticks\": \"inside\"}}, \"type\": \"scattergeo\"}], \"scattergl\": [{\"marker\": {\"colorbar\": {\"outlinewidth\": 0, \"tickcolor\": \"rgb(237,237,237)\", \"ticklen\": 6, \"ticks\": \"inside\"}}, \"type\": \"scattergl\"}], \"scattermapbox\": [{\"marker\": {\"colorbar\": {\"outlinewidth\": 0, \"tickcolor\": \"rgb(237,237,237)\", \"ticklen\": 6, \"ticks\": \"inside\"}}, \"type\": \"scattermapbox\"}], \"scatterpolar\": [{\"marker\": {\"colorbar\": {\"outlinewidth\": 0, \"tickcolor\": \"rgb(237,237,237)\", \"ticklen\": 6, \"ticks\": \"inside\"}}, \"type\": \"scatterpolar\"}], \"scatterpolargl\": [{\"marker\": {\"colorbar\": {\"outlinewidth\": 0, \"tickcolor\": \"rgb(237,237,237)\", \"ticklen\": 6, \"ticks\": \"inside\"}}, \"type\": \"scatterpolargl\"}], \"scatterternary\": [{\"marker\": {\"colorbar\": {\"outlinewidth\": 0, \"tickcolor\": \"rgb(237,237,237)\", \"ticklen\": 6, \"ticks\": \"inside\"}}, \"type\": \"scatterternary\"}], \"surface\": [{\"colorbar\": {\"outlinewidth\": 0, \"tickcolor\": \"rgb(237,237,237)\", \"ticklen\": 6, \"ticks\": \"inside\"}, \"colorscale\": [[0, \"rgb(20,44,66)\"], [1, \"rgb(90,179,244)\"]], \"type\": \"surface\"}], \"table\": [{\"cells\": {\"fill\": {\"color\": \"rgb(237,237,237)\"}, \"line\": {\"color\": \"white\"}}, \"header\": {\"fill\": {\"color\": \"rgb(217,217,217)\"}, \"line\": {\"color\": \"white\"}}, \"type\": \"table\"}]}, \"layout\": {\"annotationdefaults\": {\"arrowhead\": 0, \"arrowwidth\": 1}, \"coloraxis\": {\"colorbar\": {\"outlinewidth\": 0, \"tickcolor\": \"rgb(237,237,237)\", \"ticklen\": 6, \"ticks\": \"inside\"}}, \"colorscale\": {\"sequential\": [[0, \"rgb(20,44,66)\"], [1, \"rgb(90,179,244)\"]], \"sequentialminus\": [[0, \"rgb(20,44,66)\"], [1, \"rgb(90,179,244)\"]]}, \"colorway\": [\"#F8766D\", \"#A3A500\", \"#00BF7D\", \"#00B0F6\", \"#E76BF3\"], \"font\": {\"color\": \"rgb(51,51,51)\"}, \"geo\": {\"bgcolor\": \"white\", \"lakecolor\": \"white\", \"landcolor\": \"rgb(237,237,237)\", \"showlakes\": true, \"showland\": true, \"subunitcolor\": \"white\"}, \"hoverlabel\": {\"align\": \"left\"}, \"hovermode\": \"closest\", \"paper_bgcolor\": \"white\", \"plot_bgcolor\": \"rgb(237,237,237)\", \"polar\": {\"angularaxis\": {\"gridcolor\": \"white\", \"linecolor\": \"white\", \"showgrid\": true, \"tickcolor\": \"rgb(51,51,51)\", \"ticks\": \"outside\"}, \"bgcolor\": \"rgb(237,237,237)\", \"radialaxis\": {\"gridcolor\": \"white\", \"linecolor\": \"white\", \"showgrid\": true, \"tickcolor\": \"rgb(51,51,51)\", \"ticks\": \"outside\"}}, \"scene\": {\"xaxis\": {\"backgroundcolor\": \"rgb(237,237,237)\", \"gridcolor\": \"white\", \"gridwidth\": 2, \"linecolor\": \"white\", \"showbackground\": true, \"showgrid\": true, \"tickcolor\": \"rgb(51,51,51)\", \"ticks\": \"outside\", \"zerolinecolor\": \"white\"}, \"yaxis\": {\"backgroundcolor\": \"rgb(237,237,237)\", \"gridcolor\": \"white\", \"gridwidth\": 2, \"linecolor\": \"white\", \"showbackground\": true, \"showgrid\": true, \"tickcolor\": \"rgb(51,51,51)\", \"ticks\": \"outside\", \"zerolinecolor\": \"white\"}, \"zaxis\": {\"backgroundcolor\": \"rgb(237,237,237)\", \"gridcolor\": \"white\", \"gridwidth\": 2, \"linecolor\": \"white\", \"showbackground\": true, \"showgrid\": true, \"tickcolor\": \"rgb(51,51,51)\", \"ticks\": \"outside\", \"zerolinecolor\": \"white\"}}, \"shapedefaults\": {\"fillcolor\": \"black\", \"line\": {\"width\": 0}, \"opacity\": 0.3}, \"ternary\": {\"aaxis\": {\"gridcolor\": \"white\", \"linecolor\": \"white\", \"showgrid\": true, \"tickcolor\": \"rgb(51,51,51)\", \"ticks\": \"outside\"}, \"baxis\": {\"gridcolor\": \"white\", \"linecolor\": \"white\", \"showgrid\": true, \"tickcolor\": \"rgb(51,51,51)\", \"ticks\": \"outside\"}, \"bgcolor\": \"rgb(237,237,237)\", \"caxis\": {\"gridcolor\": \"white\", \"linecolor\": \"white\", \"showgrid\": true, \"tickcolor\": \"rgb(51,51,51)\", \"ticks\": \"outside\"}}, \"xaxis\": {\"automargin\": true, \"gridcolor\": \"white\", \"linecolor\": \"white\", \"showgrid\": true, \"tickcolor\": \"rgb(51,51,51)\", \"ticks\": \"outside\", \"title\": {\"standoff\": 15}, \"zerolinecolor\": \"white\"}, \"yaxis\": {\"automargin\": true, \"gridcolor\": \"white\", \"linecolor\": \"white\", \"showgrid\": true, \"tickcolor\": \"rgb(51,51,51)\", \"ticks\": \"outside\", \"title\": {\"standoff\": 15}, \"zerolinecolor\": \"white\"}}}, \"title\": {\"text\": \"<b>Spread Vs. Death Vs Recovered within Serbia </b>\"}, \"xaxis\": {\"anchor\": \"y\", \"domain\": [0.0, 0.2888888888888889]}, \"xaxis2\": {\"anchor\": \"y2\", \"domain\": [0.35555555555555557, 0.6444444444444445]}, \"xaxis3\": {\"anchor\": \"y3\", \"domain\": [0.7111111111111111, 1.0]}, \"yaxis\": {\"anchor\": \"x\", \"domain\": [0.0, 1.0]}, \"yaxis2\": {\"anchor\": \"x2\", \"domain\": [0.0, 1.0]}, \"yaxis3\": {\"anchor\": \"x3\", \"domain\": [0.0, 1.0]}},\n                        {\"responsive\": true}\n                    ).then(function(){\n                            \nvar gd = document.getElementById('69223632-e0e5-4fb1-9d0f-1dbd3e8eb9df');\nvar x = new MutationObserver(function (mutations, observer) {{\n        var display = window.getComputedStyle(gd).display;\n        if (!display || display === 'none') {{\n            console.log([gd, 'removed!']);\n            Plotly.purge(gd);\n            observer.disconnect();\n        }}\n}});\n\n// Listen for the removal of the full notebook cells\nvar notebookContainer = gd.closest('#notebook-container');\nif (notebookContainer) {{\n    x.observe(notebookContainer, {childList: true});\n}}\n\n// Listen for the clearing of the current output cell\nvar outputEl = gd.closest('.output');\nif (outputEl) {{\n    x.observe(outputEl, {childList: true});\n}}\n\n                        })\n                };\n                });\n            </script>\n        </div>"
     },
     "metadata": {},
     "output_type": "display_data"
    }
   ],
   "source": [
    "# Spread, death and recovered over the time in Serbia\n",
    "sr_sum = sr_sum[sr_sum['DATE'] > '2020-03-01']\n",
    "\n",
    "\n",
    "fig = make_subplots(rows=1, cols=3, subplot_titles=(f\"{int(sr_sum.CONFIRMED.max()):,d}\" +' ' + \"CONFIRMED\",\n",
    "                                                    f\"{int(sr_sum.DEATH.max()):,d}\" +' ' + \"DEATHS\",\n",
    "                                                    f\"{int(sr_sum.RECOVERED.max()):,d}\" +' ' + \"RECOVERED\"))\n",
    "\n",
    "trace1 = go.Scatter(\n",
    "                x=sr_sum['DATE'],\n",
    "                y=sr_sum['CONFIRMED'],\n",
    "                name=\"CONFIRMED\",\n",
    "                line_color='orange',\n",
    "                opacity=0.8)\n",
    "trace2 = go.Scatter(\n",
    "                x=sr_sum['DATE'],\n",
    "                y=sr_sum['DEATH'],\n",
    "                name=\"DEATH\",\n",
    "                line_color='dimgray',\n",
    "                opacity=0.8)\n",
    "\n",
    "trace3 = go.Scatter(\n",
    "                x=sr_sum['DATE'],\n",
    "                y=sr_sum['RECOVERED'],\n",
    "                name=\"RECOVERED\",\n",
    "                line_color='deepskyblue',\n",
    "                opacity=0.8)\n",
    "\n",
    "fig.append_trace(trace1, 1, 1)\n",
    "fig.append_trace(trace2, 1, 2)\n",
    "fig.append_trace(trace3, 1, 3)\n",
    "fig.update_layout(template=\"ggplot2\",title_text = '<b>Spread Vs. Death Vs Recovered within Serbia </b>',\n",
    "                  font=dict(family=\"Arial, Balto, Courier New, Droid Sans\",color='black'), showlegend=False)\n",
    "fig.show()"
   ]
  },
  {
   "cell_type": "code",
   "execution_count": 16,
   "metadata": {
    "pycharm": {
     "is_executing": false
    }
   },
   "outputs": [
    {
     "traceback": [
      "\u001b[1;31m---------------------------------------------------------------------------\u001b[0m",
      "\u001b[1;31mImportError\u001b[0m                               Traceback (most recent call last)",
      "\u001b[1;32mc:\\users\\slavi\\pycharmprojects\\covid-19_srbija\\venv\\lib\\site-packages\\IPython\\core\\formatters.py\u001b[0m in \u001b[0;36m__call__\u001b[1;34m(self, obj)\u001b[0m\n\u001b[0;32m    343\u001b[0m             \u001b[0mmethod\u001b[0m \u001b[1;33m=\u001b[0m \u001b[0mget_real_method\u001b[0m\u001b[1;33m(\u001b[0m\u001b[0mobj\u001b[0m\u001b[1;33m,\u001b[0m \u001b[0mself\u001b[0m\u001b[1;33m.\u001b[0m\u001b[0mprint_method\u001b[0m\u001b[1;33m)\u001b[0m\u001b[1;33m\u001b[0m\u001b[1;33m\u001b[0m\u001b[0m\n\u001b[0;32m    344\u001b[0m             \u001b[1;32mif\u001b[0m \u001b[0mmethod\u001b[0m \u001b[1;32mis\u001b[0m \u001b[1;32mnot\u001b[0m \u001b[1;32mNone\u001b[0m\u001b[1;33m:\u001b[0m\u001b[1;33m\u001b[0m\u001b[1;33m\u001b[0m\u001b[0m\n\u001b[1;32m--> 345\u001b[1;33m                 \u001b[1;32mreturn\u001b[0m \u001b[0mmethod\u001b[0m\u001b[1;33m(\u001b[0m\u001b[1;33m)\u001b[0m\u001b[1;33m\u001b[0m\u001b[1;33m\u001b[0m\u001b[0m\n\u001b[0m\u001b[0;32m    346\u001b[0m             \u001b[1;32mreturn\u001b[0m \u001b[1;32mNone\u001b[0m\u001b[1;33m\u001b[0m\u001b[1;33m\u001b[0m\u001b[0m\n\u001b[0;32m    347\u001b[0m         \u001b[1;32melse\u001b[0m\u001b[1;33m:\u001b[0m\u001b[1;33m\u001b[0m\u001b[1;33m\u001b[0m\u001b[0m\n",
      "\u001b[1;32mc:\\users\\slavi\\pycharmprojects\\covid-19_srbija\\venv\\lib\\site-packages\\pandas\\core\\frame.py\u001b[0m in \u001b[0;36m_repr_html_\u001b[1;34m(self)\u001b[0m\n\u001b[0;32m    732\u001b[0m         \u001b[0mdecimal\u001b[0m\u001b[1;33m=\u001b[0m\u001b[1;34m\".\"\u001b[0m\u001b[1;33m,\u001b[0m\u001b[1;33m\u001b[0m\u001b[1;33m\u001b[0m\u001b[0m\n\u001b[0;32m    733\u001b[0m         \u001b[0mline_width\u001b[0m\u001b[1;33m=\u001b[0m\u001b[1;32mNone\u001b[0m\u001b[1;33m,\u001b[0m\u001b[1;33m\u001b[0m\u001b[1;33m\u001b[0m\u001b[0m\n\u001b[1;32m--> 734\u001b[1;33m     ):\n\u001b[0m\u001b[0;32m    735\u001b[0m         \"\"\"\n\u001b[0;32m    736\u001b[0m         \u001b[0mRender\u001b[0m \u001b[0ma\u001b[0m \u001b[0mDataFrame\u001b[0m \u001b[0mto\u001b[0m \u001b[0ma\u001b[0m \u001b[0mconsole\u001b[0m\u001b[1;33m-\u001b[0m\u001b[0mfriendly\u001b[0m \u001b[0mtabular\u001b[0m \u001b[0moutput\u001b[0m\u001b[1;33m.\u001b[0m\u001b[1;33m\u001b[0m\u001b[1;33m\u001b[0m\u001b[0m\n",
      "\u001b[1;32mc:\\users\\slavi\\pycharmprojects\\covid-19_srbija\\venv\\lib\\site-packages\\pandas\\io\\formats\\format.py\u001b[0m in \u001b[0;36mto_html\u001b[1;34m(self, buf, encoding, classes, notebook, border)\u001b[0m\n\u001b[0;32m    977\u001b[0m     \u001b[0mfloat_format\u001b[0m\u001b[1;33m\u001b[0m\u001b[1;33m\u001b[0m\u001b[0m\n\u001b[0;32m    978\u001b[0m     \u001b[0mna_rep\u001b[0m\u001b[1;33m\u001b[0m\u001b[1;33m\u001b[0m\u001b[0m\n\u001b[1;32m--> 979\u001b[1;33m     \u001b[0mdigits\u001b[0m\u001b[1;33m\u001b[0m\u001b[1;33m\u001b[0m\u001b[0m\n\u001b[0m\u001b[0;32m    980\u001b[0m     \u001b[0mspace\u001b[0m\u001b[1;33m\u001b[0m\u001b[1;33m\u001b[0m\u001b[0m\n\u001b[0;32m    981\u001b[0m     \u001b[0mjustify\u001b[0m\u001b[1;33m\u001b[0m\u001b[1;33m\u001b[0m\u001b[0m\n",
      "\u001b[1;32mc:\\users\\slavi\\pycharmprojects\\covid-19_srbija\\venv\\lib\\site-packages\\pandas\\io\\formats\\html.py\u001b[0m in \u001b[0;36m<module>\u001b[1;34m\u001b[0m\n\u001b[0;32m     13\u001b[0m \u001b[1;32mfrom\u001b[0m \u001b[0mpandas\u001b[0m \u001b[1;32mimport\u001b[0m \u001b[0moption_context\u001b[0m\u001b[1;33m\u001b[0m\u001b[1;33m\u001b[0m\u001b[0m\n\u001b[0;32m     14\u001b[0m \u001b[1;33m\u001b[0m\u001b[0m\n\u001b[1;32m---> 15\u001b[1;33m \u001b[1;32mfrom\u001b[0m \u001b[0mpandas\u001b[0m\u001b[1;33m.\u001b[0m\u001b[0mio\u001b[0m\u001b[1;33m.\u001b[0m\u001b[0mcommon\u001b[0m \u001b[1;32mimport\u001b[0m \u001b[0m_is_url\u001b[0m\u001b[1;33m\u001b[0m\u001b[1;33m\u001b[0m\u001b[0m\n\u001b[0m\u001b[0;32m     16\u001b[0m from pandas.io.formats.format import (\n\u001b[0;32m     17\u001b[0m     \u001b[0mDataFrameFormatter\u001b[0m\u001b[1;33m,\u001b[0m\u001b[1;33m\u001b[0m\u001b[1;33m\u001b[0m\u001b[0m\n",
      "\u001b[1;31mImportError\u001b[0m: cannot import name '_is_url' from 'pandas.io.common' (c:\\users\\slavi\\pycharmprojects\\covid-19_srbija\\venv\\lib\\site-packages\\pandas\\io\\common.py)"
     ],
     "ename": "ImportError",
     "evalue": "cannot import name '_is_url' from 'pandas.io.common' (c:\\users\\slavi\\pycharmprojects\\covid-19_srbija\\venv\\lib\\site-packages\\pandas\\io\\common.py)",
     "output_type": "error"
    },
    {
     "data": {
      "text/plain": "        DATE  CONFIRMED  DEATH  RECOVERED\n0 2020-03-06        NaN    NaN        NaN\n1 2020-03-07        0.0    0.0        0.0\n2 2020-03-08        0.0    0.0        0.0\n3 2020-03-09        0.0    0.0        0.0\n4 2020-03-10        4.0    0.0        0.0"
     },
     "metadata": {},
     "output_type": "execute_result",
     "execution_count": 16
    }
   ],
   "source": [
    "sr_sum = sr_sum.sort_values('DATE', ascending=True)\n",
    "\n",
    "sr_sum = pd.DataFrame(sr_sum.set_index('DATE').diff()).reset_index()\n",
    "sr_sum.dropna()\n",
    "sr_sum.head()"
   ]
  },
  {
   "cell_type": "code",
   "execution_count": null,
   "metadata": {},
   "outputs": [],
   "source": [
    "sr_sum.describe()"
   ]
  },
  {
   "cell_type": "code",
   "execution_count": null,
   "metadata": {},
   "outputs": [],
   "source": [
    "# Ploting daily updtes for \n",
    "fig_d = go.Figure()\n",
    "fig_d.add_trace(go.Scatter(x=sr_sum.DATE, y=sr_sum.CONFIRMED, mode=\"lines+markers\", name=f\"MAX. OF {int(sr_sum.CONFIRMED.max()):,d}\" + ' ' + \"CONFIRMED\",line_color='Orange'))\n",
    "fig_d.add_trace(go.Scatter(x=sr_sum.DATE, y=sr_sum.RECOVERED, mode=\"lines+markers\", name=f\"MAX. OF {int(sr_sum.RECOVERED.max()):,d}\" + ' ' + \"RECOVERED\",line_color='deepskyblue'))\n",
    "fig_d.add_trace(go.Scatter(x=sr_sum.DATE, y=sr_sum.DEATH, mode=\"lines+markers\", name=f\"MAX. OF {int(sr_sum.DEATH.max()):,d}\" + ' ' + \"DEATHS\",line_color='dimgray'))\n",
    "fig_d.update_layout(template=\"ggplot2\",title_text = '<b>Daily numbers for Confirmed, Death and Recovered </b>',\n",
    "                  font=dict(family=\"Arial, Balto, Courier New, Droid Sans\",color='black'), showlegend=True)\n",
    "fig_d.update_layout(\n",
    "    legend=dict(\n",
    "        x=0.01,\n",
    "        y=.98,\n",
    "        traceorder=\"normal\",\n",
    "        font=dict(\n",
    "            family=\"sans-serif\",\n",
    "            size=12,\n",
    "            color=\"Black\"\n",
    "        ),\n",
    "        bgcolor=\"LightSteelBlue\",\n",
    "        bordercolor=\"dimgray\",\n",
    "        borderwidth=2\n",
    "    ))\n",
    "fig_d.show()"
   ]
  },
  {
   "cell_type": "code",
   "execution_count": null,
   "metadata": {},
   "outputs": [],
   "source": [
    "D_vs_R = sr_sum.copy()\n",
    "D_vs_R['REC'] = 'REC'\n",
    "D_vs_R['DTH'] = 'DTH'\n",
    "recovered = pd.pivot_table(D_vs_R.dropna(subset=['RECOVERED']), index='DATE', \n",
    "                         columns='REC', values='RECOVERED', aggfunc=np.sum).fillna(method='ffill').reset_index()\n",
    "\n",
    "death = pd.pivot_table(D_vs_R.dropna(subset=['DEATH']), index='DATE', \n",
    "                         columns='DTH', values='DEATH', aggfunc=np.sum).fillna(method='ffill').reset_index()\n",
    "\n",
    "D_vs_R_df = pd.merge(recovered,death,on='DATE')\n",
    "D_vs_R_df['RATIO'] = round(D_vs_R_df['DTH'] / (D_vs_R_df['DTH'] + D_vs_R_df['REC'])*100)\n",
    "D_vs_R_df.tail()"
   ]
  },
  {
   "cell_type": "code",
   "execution_count": null,
   "metadata": {},
   "outputs": [],
   "source": [
    "# Display number of confirmed cased in Serbia\n",
    "sr_max = covid[(covid['COUNTRY'] == 'Serbia')]\n",
    "fig_conf = go.Figure()\n",
    "fig_conf.add_trace(go.Scatter(x=sr_max.DATE,\n",
    "                              y=sr_max.CONFIRMED,\n",
    "                              mode=\"lines+markers\",\n",
    "                              line_color='Orange',\n",
    "                              name = f\"{int(sr_max.CONFIRMED.max()):,d}\" + ' ' + 'Confirmed'))\n",
    "\n",
    "fig_conf.update_layout(template=\"ggplot2\",title_text = '<b>Confiermed cases in Serbia</b>',\n",
    "                  font=dict(family=\"Arial, Balto, Courier New, Droid Sans\", color='black'), showlegend=True) \n",
    "fig_conf.update_layout(\n",
    "    legend=dict(\n",
    "        x=0.01,\n",
    "        y=.98,\n",
    "        traceorder=\"normal\",\n",
    "        font=dict(\n",
    "            family=\"sans-serif\",\n",
    "            size=12,\n",
    "            color=\"Black\"\n",
    "        ),\n",
    "        bgcolor=\"LightSteelBlue\",\n",
    "        bordercolor=\"Orange\",\n",
    "        borderwidth=2\n",
    "    ))\n",
    "fig_conf.show()"
   ]
  },
  {
   "cell_type": "code",
   "execution_count": null,
   "metadata": {},
   "outputs": [],
   "source": [
    "from fbprophet import Prophet\n",
    "from fbprophet.plot import add_changepoints_to_plot\n",
    "from fbprophet.plot import plot_plotly\n",
    "\n",
    "\n",
    "sr_max = sr_max.groupby(['DATE']).sum().loc[:,['CONFIRMED','DEATH','RECOVERED']].reset_index()\n",
    "sr_max = sr_max[sr_max['DATE'] > '2020-03-1']\n",
    "\n",
    "sr_prophet= sr_max.rename(columns={'DATE': 'ds', 'CONFIRMED': 'y'})\n",
    "# Make a future dataframe for X days\n",
    "m_sr = Prophet(\n",
    "    changepoint_prior_scale=20,\n",
    "    seasonality_prior_scale=20,\n",
    "    n_changepoints=19,\n",
    "    changepoint_range=0.9,\n",
    "    yearly_seasonality=False,\n",
    "    weekly_seasonality = False,\n",
    "    daily_seasonality = True,\n",
    "    seasonality_mode = 'additive')\n",
    "# Add seasonlity\n",
    "#m_us.add_seasonality(name='yearly', period=365, fourier_order=5)\n",
    "m_sr.fit(sr_prophet)\n",
    "\n",
    "# Make predictions\n",
    "future_sr = m_sr.make_future_dataframe(periods=5)\n",
    "\n",
    "forecast_sr = m_sr.predict(future_sr)"
   ]
  },
  {
   "cell_type": "code",
   "execution_count": null,
   "metadata": {},
   "outputs": [],
   "source": [
    "trace1 = {\n",
    "  \"fill\": None, \n",
    "  \"mode\": \"markers\", \n",
    "  \"name\": \"actual no. of Confirmed\", \n",
    "  \"type\": \"scatter\", \n",
    "  \"x\": sr_prophet.ds, \n",
    "  \"y\": sr_prophet.y\n",
    "}\n",
    "trace2 = {\n",
    "  \"fill\": \"tonexty\", \n",
    "  \"line\": {\"color\": \"#57b8ff\"}, \n",
    "  \"mode\": \"lines\", \n",
    "  \"name\": \"upper_band\", \n",
    "  \"type\": \"scatter\", \n",
    "  \"x\": forecast_sr.ds, \n",
    "  \"y\": forecast_sr.yhat_upper\n",
    "}\n",
    "trace3 = {\n",
    "  \"fill\": \"tonexty\", \n",
    "  \"line\": {\"color\": \"#57b8ff\"}, \n",
    "  \"mode\": \"lines\", \n",
    "  \"name\": \"lower_band\", \n",
    "  \"type\": \"scatter\", \n",
    "  \"x\": forecast_sr.ds, \n",
    "  \"y\": forecast_sr.yhat_lower\n",
    "}\n",
    "trace4 = {\n",
    "  \"line\": {\"color\": \"#eb0e0e\"}, \n",
    "  \"mode\": \"lines+markers\", \n",
    "  \"name\": \"prediction\", \n",
    "  \"type\": \"scatter\", \n",
    "  \"x\": forecast_sr.ds, \n",
    "  \"y\": forecast_sr.yhat\n",
    "}\n",
    "\n",
    "data = [trace1, trace2, trace3, trace4]\n",
    "layout = {\n",
    "  \"title\": \"Confirmed - Time Series Forecast - Daily Trend\", \n",
    "  \"xaxis\": {\n",
    "    \"title\": \"\", \n",
    "    \"ticklen\": 5, \n",
    "    \"gridcolor\": \"rgb(255, 255, 255)\", \n",
    "    \"gridwidth\": 2, \n",
    "    \"zerolinewidth\": 1\n",
    "  }, \n",
    "  \"yaxis\": {\n",
    "    \"title\": \"Confirmed nCov - US\", \n",
    "    \"ticklen\": 5, \n",
    "    \"gridcolor\": \"rgb(255, 255, 255)\", \n",
    "    \"gridwidth\": 2, \n",
    "    \"zerolinewidth\": 1\n",
    "  }, \n",
    "}\n",
    "fig = go.Figure(data=data, layout=layout)\n",
    "iplot(fig)"
   ]
  },
  {
   "cell_type": "code",
   "execution_count": null,
   "metadata": {},
   "outputs": [],
   "source": []
  }
 ],
 "metadata": {
  "kernelspec": {
   "display_name": "Python 3",
   "language": "python",
   "name": "python3"
  },
  "language_info": {
   "codemirror_mode": {
    "name": "ipython",
    "version": 3
   },
   "file_extension": ".py",
   "mimetype": "text/x-python",
   "name": "python",
   "nbconvert_exporter": "python",
   "pygments_lexer": "ipython3",
   "version": "3.7.6"
  },
  "pycharm": {
   "stem_cell": {
    "cell_type": "raw",
    "source": [],
    "metadata": {
     "collapsed": false
    }
   }
  }
 },
 "nbformat": 4,
 "nbformat_minor": 1
}